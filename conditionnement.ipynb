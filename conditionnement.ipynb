{
 "cells": [
  {
   "cell_type": "code",
   "execution_count": 15,
   "id": "f909ce32",
   "metadata": {},
   "outputs": [],
   "source": [
    "from numpy import *\n",
    "from numpy.linalg import solve, inv,cond\n",
    "from matplotlib import pyplot as plt"
   ]
  },
  {
   "cell_type": "code",
   "execution_count": 24,
   "id": "e4243cc9",
   "metadata": {},
   "outputs": [
    {
     "name": "stdout",
     "output_type": "stream",
     "text": [
      "Les coéficients obetenus sont : [2. 0.]\n"
     ]
    }
   ],
   "source": [
    "U = array([2,2])\n",
    "A = array([[1,1],[1,1.0001]])\n",
    "\n",
    "a = solve(A,U)\n",
    "print(f\"Les coéficients obetenus sont : {a}\")"
   ]
  },
  {
   "cell_type": "code",
   "execution_count": 33,
   "id": "7644d646",
   "metadata": {
    "scrolled": true
   },
   "outputs": [
    {
     "name": "stdout",
     "output_type": "stream",
     "text": [
      "Les nouvelles valeurs obetenues sont : [-30038.  30040.]\n",
      "le nombre de conditionnement de ce système est : 40002.000074915224\n",
      "Les deltas des a sont : [ 30040. -30040.]\n"
     ]
    }
   ],
   "source": [
    "#perturbons le système : \n",
    "U[1] = U[1] + 1.001\n",
    "new_a = solve(A,U)\n",
    "#regardons la différence entre les valeurs d'origines et celles obtenues après perturbation\n",
    "delta = empty_like(a)\n",
    "for i in range(len(a)):\n",
    "    delta[i] = a[i] - new_a[i]\n",
    "print(f\"Les nouvelles valeurs obetenues sont : {new_a}\")\n",
    "print(f\"le nombre de conditionnement de ce système est : {cond(A)}\")\n",
    "print(f\"Les deltas des a sont : {delta}\")"
   ]
  },
  {
   "cell_type": "code",
   "execution_count": null,
   "id": "7e610243",
   "metadata": {},
   "outputs": [],
   "source": []
  }
 ],
 "metadata": {
  "kernelspec": {
   "display_name": "Python 3 (ipykernel)",
   "language": "python",
   "name": "python3"
  },
  "language_info": {
   "codemirror_mode": {
    "name": "ipython",
    "version": 3
   },
   "file_extension": ".py",
   "mimetype": "text/x-python",
   "name": "python",
   "nbconvert_exporter": "python",
   "pygments_lexer": "ipython3",
   "version": "3.9.13"
  }
 },
 "nbformat": 4,
 "nbformat_minor": 5
}
