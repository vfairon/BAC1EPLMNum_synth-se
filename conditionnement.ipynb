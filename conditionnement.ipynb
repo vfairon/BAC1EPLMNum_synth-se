{
 "cells": [
  {
   "cell_type": "code",
   "execution_count": 1,
   "id": "f909ce32",
   "metadata": {},
   "outputs": [],
   "source": [
    "from numpy import *\n",
    "from numpy.linalg import solve, inv,cond, eig,det\n",
    "from matplotlib import pyplot as plt"
   ]
  },
  {
   "cell_type": "markdown",
   "id": "758d7c80",
   "metadata": {},
   "source": [
    "## Un Système mal conditionné"
   ]
  },
  {
   "cell_type": "code",
   "execution_count": 2,
   "id": "e4243cc9",
   "metadata": {},
   "outputs": [
    {
     "name": "stdout",
     "output_type": "stream",
     "text": [
      "Les coéficients obetenus sont : [2. 0.]\n"
     ]
    }
   ],
   "source": [
    "U = array([2,2])\n",
    "A = array([[1,1],[1,1.0001]])\n",
    "\n",
    "a = solve(A,U)\n",
    "print(f\"Les coéficients obetenus sont : {a}\")"
   ]
  },
  {
   "cell_type": "code",
   "execution_count": 6,
   "id": "7644d646",
   "metadata": {
    "scrolled": true
   },
   "outputs": [
    {
     "name": "stdout",
     "output_type": "stream",
     "text": [
      "Les nouvelles valeurs obetenues sont : [1.8 0.2]\n",
      "le nombre de conditionnement de ce système est : 12.31882341631134\n",
      "Les deltas des a sont : [ 0.2 -0.2]\n",
      " condition number =    1.232e+01\n",
      " determinant =    1.000e+01\n",
      " lambda[0] =    9.010e-01\n",
      " lambda[1] =    1.110e+01\n",
      " lambda[0] * lambda[1] =    1.000e+01\n",
      " lambda[1] / lambda[0] =    1.232e+01\n"
     ]
    }
   ],
   "source": [
    "#perturbons le système : \n",
    "\n",
    "U[1] = U[1] + 1.00\n",
    "new_a = solve(A,U)\n",
    "\n",
    "#regardons la différence entre les valeurs d'origines et celles obtenues après perturbation\n",
    "\n",
    "delta = empty_like(a)\n",
    "for i in range(len(a)):\n",
    "    delta[i] = a[i] - new_a[i]\n",
    "print(f\"Les nouvelles valeurs obetenues sont : {new_a}\")\n",
    "print(f\"le nombre de conditionnement de ce système est : {cond(A)}\")\n",
    "print(f\"Les deltas des a sont : {delta}\")\n",
    "\n",
    "\n",
    "lambdas,vect = eig(A)\n",
    "print(\" condition number = %12.3e\" % cond(A))\n",
    "print(\" determinant = %12.3e\" % det(A))\n",
    "print(\" lambda[0] = %12.3e\" % lambdas[0])\n",
    "print(\" lambda[1] = %12.3e\" % lambdas[1])\n",
    "print(\" lambda[0] * lambda[1] = %12.3e\" % (lambdas[0]*lambdas[1]))\n",
    "print(\" lambda[1] / lambda[0] = %12.3e\" % (lambdas[1]/lambdas[0]))\n"
   ]
  },
  {
   "cell_type": "markdown",
   "id": "b7afdcfe",
   "metadata": {},
   "source": [
    "## Un système bien conditionné"
   ]
  },
  {
   "cell_type": "code",
   "execution_count": 7,
   "id": "e84c6578",
   "metadata": {},
   "outputs": [
    {
     "name": "stdout",
     "output_type": "stream",
     "text": [
      "Les coéficients obetenus sont : [2. 0.]\n"
     ]
    }
   ],
   "source": [
    "U = array([2,2])\n",
    "A = array([[1,1],[1,11]])\n",
    "\n",
    "a = solve(A,U)\n",
    "print(f\"Les coéficients obetenus sont : {a}\")"
   ]
  },
  {
   "cell_type": "code",
   "execution_count": 8,
   "id": "081267de",
   "metadata": {},
   "outputs": [
    {
     "name": "stdout",
     "output_type": "stream",
     "text": [
      "Les nouvelles valeurs obetenues sont : [1.9 0.1]\n",
      "le nombre de conditionnement de ce système est : 12.31882341631134\n",
      "Les deltas des a sont : [ 0.1 -0.1]\n",
      " condition number =    1.232e+01\n",
      " determinant =    1.000e+01\n",
      " lambda[0] =    9.010e-01\n",
      " lambda[1] =    1.110e+01\n",
      " lambda[0] * lambda[1] =    1.000e+01\n",
      " lambda[1] / lambda[0] =    1.232e+01\n"
     ]
    }
   ],
   "source": [
    "#perturbons le système : \n",
    "U[1] = U[1] + 1.00\n",
    "new_a = solve(A,U)\n",
    "#regardons la différence entre les valeurs d'origines et celles obtenues après perturbation\n",
    "delta = empty_like(a)\n",
    "for i in range(len(a)):\n",
    "    delta[i] = a[i] - new_a[i]\n",
    "print(f\"Les nouvelles valeurs obetenues sont : {new_a}\")\n",
    "print(f\"le nombre de conditionnement de ce système est : {cond(A)}\")\n",
    "print(f\"Les deltas des a sont : {delta}\")\n",
    "\n",
    "lambdas,vect = eig(A)\n",
    "print(\" condition number = %12.3e\" % cond(A))\n",
    "print(\" determinant = %12.3e\" % det(A))\n",
    "print(\" lambda[0] = %12.3e\" % lambdas[0])\n",
    "print(\" lambda[1] = %12.3e\" % lambdas[1])\n",
    "print(\" lambda[0] * lambda[1] = %12.3e\" % (lambdas[0]*lambdas[1]))\n",
    "print(\" lambda[1] / lambda[0] = %12.3e\" % (lambdas[1]/lambdas[0]))\n"
   ]
  },
  {
   "cell_type": "code",
   "execution_count": null,
   "id": "8067b6a4",
   "metadata": {},
   "outputs": [],
   "source": []
  }
 ],
 "metadata": {
  "kernelspec": {
   "display_name": "Python 3 (ipykernel)",
   "language": "python",
   "name": "python3"
  },
  "language_info": {
   "codemirror_mode": {
    "name": "ipython",
    "version": 3
   },
   "file_extension": ".py",
   "mimetype": "text/x-python",
   "name": "python",
   "nbconvert_exporter": "python",
   "pygments_lexer": "ipython3",
   "version": "3.9.13"
  }
 },
 "nbformat": 4,
 "nbformat_minor": 5
}
