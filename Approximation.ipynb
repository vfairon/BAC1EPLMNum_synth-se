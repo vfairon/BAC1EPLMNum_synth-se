{
 "cells": [
  {
   "cell_type": "code",
   "execution_count": 63,
   "id": "828db210",
   "metadata": {},
   "outputs": [],
   "source": [
    "import numpy as np\n",
    "from numpy.linalg import solve\n",
    "from matplotlib import pyplot as plt\n",
    "from math import sin, cos, tan"
   ]
  },
  {
   "cell_type": "code",
   "execution_count": 81,
   "id": "81617859",
   "metadata": {},
   "outputs": [],
   "source": [
    "phi0 = lambda x : 1\n",
    "phi1 = lambda x : x\n",
    "phi2 = lambda x : x**2\n",
    "phis = np.array([phi0,phi1,phi2])\n",
    "\n"
   ]
  },
  {
   "cell_type": "code",
   "execution_count": 92,
   "id": "58e20c86",
   "metadata": {},
   "outputs": [],
   "source": [
    "X = [1,2,3,4,5,6]\n",
    "x = np.linspace(0,7,100)\n",
    "U = [10,2,3,2,1,10]\n",
    "\n",
    "n = len(phis)\n",
    "m = len(X)\n",
    "A = np.zeros((n,n))\n",
    "b = np.zeros(n)"
   ]
  },
  {
   "cell_type": "code",
   "execution_count": 93,
   "id": "173236a8",
   "metadata": {},
   "outputs": [
    {
     "name": "stdout",
     "output_type": "stream",
     "text": [
      "[[6.000000e+00 4.410000e+02 2.275000e+03]\n",
      " [4.410000e+02 6.717100e+04 3.767610e+05]\n",
      " [2.275000e+03 3.767610e+05 2.142595e+06]]\n"
     ]
    }
   ],
   "source": [
    "for j in range(n):    \n",
    "    for k in range(n):\n",
    "        somme_A = 0  \n",
    "        for i in range(m):\n",
    "            somme_A += phis[j](X[i])*phis[k](X[i])\n",
    "        A[j,k] = somme_A\n",
    "for j in range(n):\n",
    "    somme_B = 0\n",
    "    for k in range(m):\n",
    "        somme_B += phis[j](X[k])*U[k]\n",
    "    b[j] = somme_B\n",
    "\n",
    "a = solve(A,b)\n",
    "print(A)\n",
    "y = np.polyval(a[::-1],x)"
   ]
  },
  {
   "cell_type": "code",
   "execution_count": 94,
   "id": "036843ab",
   "metadata": {},
   "outputs": [
    {
     "data": {
      "image/png": "[encoded data removed]",
      "text/plain": [
       "<Figure size 640x480 with 1 Axes>"
      ]
     },
     "metadata": {},
     "output_type": "display_data"
    }
   ],
   "source": [
    "plt.plot(x, y)\n",
    "plt.scatter(X,U)\n",
    "plt.show()\n",
    "    "
   ]
  },
  {
   "cell_type": "code",
   "execution_count": null,
   "id": "6505ef8e",
   "metadata": {},
   "outputs": [],
   "source": []
  },
  {
   "cell_type": "code",
   "execution_count": null,
   "id": "5ad58635",
   "metadata": {},
   "outputs": [],
   "source": []
  }
 ],
 "metadata": {
  "kernelspec": {
   "display_name": "Python 3 (ipykernel)",
   "language": "python",
   "name": "python3"
  },
  "language_info": {
   "codemirror_mode": {
    "name": "ipython",
    "version": 3
   },
   "file_extension": ".py",
   "mimetype": "text/x-python",
   "name": "python",
   "nbconvert_exporter": "python",
   "pygments_lexer": "ipython3",
   "version": "3.9.13"
  }
 },
 "nbformat": 4,
 "nbformat_minor": 5
}
