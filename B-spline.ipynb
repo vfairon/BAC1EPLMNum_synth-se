{
 "cells": [
  {
   "cell_type": "code",
   "execution_count": 8,
   "id": "9ddb3da6",
   "metadata": {},
   "outputs": [],
   "source": [
    "import numpy as np\n",
    "import matplotlib.pyplot as plt"
   ]
  },
  {
   "cell_type": "code",
   "execution_count": 139,
   "id": "bec3a6b8",
   "metadata": {},
   "outputs": [],
   "source": [
    "### LES points de controle ###\n",
    " \n",
    "T = [0, 0, 0, 0, 1, 2, 2, 2, 2]\n",
    "\n",
    "X = [0,1,2,3,4]\n",
    "Y = [0,3,0,3,0]\n",
    "\n",
    "### Le reste\n",
    "#T = np.array([0,0,0,0.5,1,1,1])\n",
    "n = len(T)-1\n",
    "p = n-len(X)\n",
    "#n = len(X)+p#n-p = len(X), nous voulons 4 points de controle et des b-splines de degré 2\n",
    "\n"
   ]
  },
  {
   "cell_type": "code",
   "execution_count": 140,
   "id": "fe6344ee",
   "metadata": {},
   "outputs": [],
   "source": [
    "def b(t,T,i,p):\n",
    "    if p == 0:\n",
    "        u = np.array([])\n",
    "        for k in range(len(t)):\n",
    "            if T[i] <= t[k] and t[k] < T[i+1]:\n",
    "                u = np.append(u,1)\n",
    "            else : \n",
    "                u = np.append(u,0)\n",
    "\n",
    "    else:\n",
    "        u  = 0.0 if T[i+p ]  == T[i]  else (t-T[i])/(T[i+p]- T[i]) * b(t,T,i,p-1)\n",
    "        u += 0.0 if T[i+p+1] == T[i+1] else (T[i+p+1]-t)/(T[i+p+1]-T[i+1]) * b(t,T,i+1,p-1)\n",
    "    return u\n",
    "                "
   ]
  },
  {
   "cell_type": "code",
   "execution_count": 141,
   "id": "0f06c52b",
   "metadata": {},
   "outputs": [],
   "source": [
    "def b_spline(T,X,Y,p):\n",
    "    n = len(T)-1\n",
    "\n",
    "    t = np.arange(T[p],T[n-p],0.001)\n",
    "    \n",
    "    B = np.zeros((n-p,len(t)))\n",
    "    \n",
    "    for i in range(0,n-p):\n",
    "        B[i,:] = b(t,T,i,p)\n",
    "\n",
    "    x =  X @ B\n",
    "    y =  Y @ B\n",
    "    return x,y\n"
   ]
  },
  {
   "cell_type": "code",
   "execution_count": 142,
   "id": "c6256ace",
   "metadata": {},
   "outputs": [
    {
     "data": {
      "text/plain": [
       "[<matplotlib.lines.Line2D at 0x7fca671bec70>]"
      ]
     },
     "execution_count": 142,
     "metadata": {},
     "output_type": "execute_result"
    },
    {
     "data": {
      "image/png": "[encoded data removed]",
      "text/plain": [
       "<Figure size 640x480 with 1 Axes>"
      ]
     },
     "metadata": {},
     "output_type": "display_data"
    }
   ],
   "source": [
    "fig = plt.figure(\"Approximation avec des B-splines\")\n",
    "plt.plot(X,Y,'.r',markersize=10)\n",
    "\n",
    "x,y = b_spline(T,X,Y,p)\n",
    "plt.plot(x,y,'-b')"
   ]
  },
  {
   "cell_type": "code",
   "execution_count": null,
   "id": "8b7be362",
   "metadata": {},
   "outputs": [],
   "source": []
  },
  {
   "cell_type": "code",
   "execution_count": null,
   "id": "f9ce2a26",
   "metadata": {},
   "outputs": [],
   "source": []
  }
 ],
 "metadata": {
  "kernelspec": {
   "display_name": "Python 3 (ipykernel)",
   "language": "python",
   "name": "python3"
  },
  "language_info": {
   "codemirror_mode": {
    "name": "ipython",
    "version": 3
   },
   "file_extension": ".py",
   "mimetype": "text/x-python",
   "name": "python",
   "nbconvert_exporter": "python",
   "pygments_lexer": "ipython3",
   "version": "3.9.13"
  }
 },
 "nbformat": 4,
 "nbformat_minor": 5
}
